{
 "cells": [
  {
   "cell_type": "markdown",
   "id": "bbc04477",
   "metadata": {},
   "source": [
    "# My Jupyter Notebook on IBM Watson Studio"
   ]
  },
  {
   "cell_type": "markdown",
   "id": "e19b2f1f",
   "metadata": {},
   "source": [
    "**Ezgi Tanyeli**\n",
    "\n",
    "I wanted to be a data scientist in the banking sector.\n",
    "\n",
    "*I'm really interested in data science. I like to think about human behaviors because it can help you gain insights about customer data.*"
   ]
  },
  {
   "cell_type": "markdown",
   "id": "0b9606f6",
   "metadata": {},
   "source": [
    "### Cell five: code that executes and displays an output."
   ]
  },
  {
   "cell_type": "code",
   "execution_count": 5,
   "id": "43a2580a",
   "metadata": {},
   "outputs": [
    {
     "name": "stdout",
     "output_type": "stream",
     "text": [
      "a plus b =  11\n"
     ]
    }
   ],
   "source": [
    "a = 3\n",
    "b = 8\n",
    "\n",
    "print(\"a plus b = \", a+b)"
   ]
  },
  {
   "cell_type": "markdown",
   "id": "09a15e56",
   "metadata": {},
   "source": [
    "### Cell six\n",
    "\n",
    "---\n",
    "\n",
    "**this is the horizontal rule**"
   ]
  },
  {
   "cell_type": "markdown",
   "id": "a2e43419",
   "metadata": {},
   "source": [
    "* this is the bulletted list\n",
    "* second element of the bulleted list\n",
    "* hello there"
   ]
  },
  {
   "cell_type": "markdown",
   "id": "9356497c",
   "metadata": {},
   "source": [
    "**0. this is the numbered list**\n",
    "1. thank\n",
    "2. you\n",
    "3. so\n",
    "4. much"
   ]
  },
  {
   "cell_type": "markdown",
   "id": "8477ae45",
   "metadata": {},
   "source": [
    "**here is the table**\n",
    "\n",
    "| Days          | Weather       |\n",
    "| ------------- |:-------------:|\n",
    "| Monday        | rainy         |\n",
    "| Tuesday       | sunny         |\n",
    "| Wednesday     | cool          |"
   ]
  },
  {
   "cell_type": "markdown",
   "id": "26630969",
   "metadata": {},
   "source": [
    "**This is the hyperlink to the ibm website**\n",
    "[IBM WATSON WEBSITE](https://www.ibm.com/watson)"
   ]
  },
  {
   "cell_type": "markdown",
   "id": "aa6e5ea1",
   "metadata": {},
   "source": [
    "**Wow here comes the image** \n",
    "\n",
    "![alt text](https://github.com/adam-p/markdown-here/raw/master/src/common/images/icon48.png \"Logo Title Text 1\")"
   ]
  },
  {
   "cell_type": "markdown",
   "id": "4041fbdc",
   "metadata": {},
   "source": [
    "**highlighting some words**\n",
    "\n",
    "Hello `some cats` are `blackest evet`."
   ]
  },
  {
   "cell_type": "markdown",
   "id": "4019eb62",
   "metadata": {},
   "source": [
    "> I'm trying **`block quotes`**. This is fine."
   ]
  },
  {
   "cell_type": "markdown",
   "id": "5669fa97",
   "metadata": {},
   "source": [
    "**this is a strikethrough word**\n",
    "\n",
    "~~don't want to write this~~"
   ]
  }
 ],
 "metadata": {
  "kernelspec": {
   "display_name": "Python 3 (ipykernel)",
   "language": "python",
   "name": "python3"
  },
  "language_info": {
   "codemirror_mode": {
    "name": "ipython",
    "version": 3
   },
   "file_extension": ".py",
   "mimetype": "text/x-python",
   "name": "python",
   "nbconvert_exporter": "python",
   "pygments_lexer": "ipython3",
   "version": "3.9.12"
  }
 },
 "nbformat": 4,
 "nbformat_minor": 5
}
